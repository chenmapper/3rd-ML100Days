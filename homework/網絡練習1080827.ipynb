{
 "cells": [
  {
   "cell_type": "code",
   "execution_count": 43,
   "metadata": {},
   "outputs": [
    {
     "name": "stdout",
     "output_type": "stream",
     "text": [
      "8\n",
      "4\n",
      "G.adj A3 ['A1', 'A2', 'm']\n",
      "2\n",
      "[('A1', 'A2'), ('A1', 'A3')]\n",
      "G.degree [('A1', 2), ('A2', 2), ('A3', 3)]\n"
     ]
    },
    {
     "data": {
      "image/png": "[encoded data removed]",
      "text/plain": [
       "<Figure size 432x288 with 1 Axes>"
      ]
     },
     "metadata": {},
     "output_type": "display_data"
    }
   ],
   "source": [
    "#https://networkx.github.io/documentation/stable/tutorial.html\n",
    "import networkx as nx\n",
    "#node\n",
    "G = nx.Graph()\n",
    "G.add_node(1)\n",
    "G.add_nodes_from([2, 3])\n",
    "H = nx.path_graph(5)\n",
    "G.add_nodes_from(H)\n",
    "#edge\n",
    "G.add_edge(1, 2)\n",
    "e = (2, 3)\n",
    "G.add_edge(*e) \n",
    "G.add_edges_from([(1,4), (2, 4)])\n",
    "G.add_edges_from(H.edges)\n",
    "#draw\n",
    "G.clear()\n",
    "G.add_edges_from([('A1', 'A2'), ('A1','A3')])\n",
    "G.add_node('A1')\n",
    "G.add_edge('A3','A2')\n",
    "G.add_node(\"spam\")        # adds node \"spam\"\n",
    "G.add_nodes_from(\"spam\")  # adds 4 nodes: 's', 'p', 'a', 'm'\n",
    "G.add_edge('A3', 'm')\n",
    "print(G.number_of_nodes())\n",
    "print(G.number_of_edges())\n",
    "#print(list(G.nodes))\n",
    "#print(list(G.edges))\n",
    "print('G.adj A3',list(G.adj['A3']))#??\n",
    "print(G.degree['A2'])#??\n",
    "print(G.edges(['A1']))\n",
    "print('G.degree',G.degree(['A1','A2','A3']))\n",
    "nx.draw(G,with_labels=True)"
   ]
  },
  {
   "cell_type": "code",
   "execution_count": 48,
   "metadata": {},
   "outputs": [
    {
     "name": "stdout",
     "output_type": "stream",
     "text": [
      "[('A1', 'A2'), ('A1', 'A3'), ('A2', 'A1'), ('A3', 'A1'), (1, 2), (2, 1)]\n",
      "ok \n"
     ]
    },
    {
     "data": {
      "image/png": "[encoded data removed]",
      "text/plain": [
       "<Figure size 432x288 with 1 Axes>"
      ]
     },
     "metadata": {},
     "output_type": "display_data"
    }
   ],
   "source": [
    "import networkx as nx\n",
    "#node\n",
    "G = nx.Graph()\n",
    "G.clear()\n",
    "G.add_edges_from([('A1', 'A2'), ('A1','A3')])\n",
    "nx.draw(G,with_labels=True)\n",
    "G.add_edge(1, 2)\n",
    "\n"
   ]
  },
  {
   "cell_type": "code",
   "execution_count": 55,
   "metadata": {},
   "outputs": [
    {
     "name": "stdout",
     "output_type": "stream",
     "text": [
      "[('A1', 'A2'), ('A1', 'A3'), ('A2', 'A1'), ('A3', 'A1'), (1, 2), (2, 1)]\n",
      "{'A2': {}, 'A3': {}}\n",
      "[(0, 1), (1, 2), (2, 3)]\n"
     ]
    }
   ],
   "source": [
    "H = nx.DiGraph(G)   # create a DiGraph using the connections from G\n",
    "print(list(H.edges()))\n",
    "print(H['A1'])\n",
    "edgelist = [(0, 1), (1, 2), (2, 3)]\n",
    "H = nx.Graph(edgelist)\n",
    "print(list(H.edges()))"
   ]
  },
  {
   "cell_type": "code",
   "execution_count": null,
   "metadata": {},
   "outputs": [],
   "source": []
  },
  {
   "cell_type": "code",
   "execution_count": null,
   "metadata": {},
   "outputs": [],
   "source": []
  },
  {
   "cell_type": "code",
   "execution_count": null,
   "metadata": {},
   "outputs": [],
   "source": []
  },
  {
   "cell_type": "code",
   "execution_count": null,
   "metadata": {},
   "outputs": [],
   "source": []
  },
  {
   "cell_type": "code",
   "execution_count": null,
   "metadata": {},
   "outputs": [],
   "source": []
  }
 ],
 "metadata": {
  "kernelspec": {
   "display_name": "Python 3",
   "language": "python",
   "name": "python3"
  },
  "language_info": {
   "codemirror_mode": {
    "name": "ipython",
    "version": 3
   },
   "file_extension": ".py",
   "mimetype": "text/x-python",
   "name": "python",
   "nbconvert_exporter": "python",
   "pygments_lexer": "ipython3",
   "version": "3.6.5"
  }
 },
 "nbformat": 4,
 "nbformat_minor": 2
}
